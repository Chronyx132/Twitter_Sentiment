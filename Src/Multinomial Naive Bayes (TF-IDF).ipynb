{
 "cells": [
  {
   "cell_type": "markdown",
   "metadata": {},
   "source": [
    "# IT1244 Project"
   ]
  },
  {
   "cell_type": "markdown",
   "metadata": {},
   "source": [
    "## Import Libraries"
   ]
  },
  {
   "cell_type": "code",
   "execution_count": null,
   "metadata": {},
   "outputs": [],
   "source": [
    "import re as re\n",
    "import heapq as heapq\n",
    "import pandas as pd\n",
    "import numpy as np\n",
    "from sklearn.model_selection import train_test_split\n",
    "import random as random\n",
    "from sklearn.feature_extraction.text import TfidfVectorizer\n",
    "from sklearn.model_selection import train_test_split\n",
    "from sklearn.feature_extraction.text import TfidfVectorizer\n",
    "from sklearn.naive_bayes import MultinomialNB\n",
    "from sklearn.model_selection import train_test_split, GridSearchCV\n",
    "from sklearn.pipeline import Pipeline\n",
    "from sklearn.metrics import accuracy_score, precision_score, recall_score, f1_score\n"
   ]
  },
  {
   "cell_type": "markdown",
   "metadata": {},
   "source": [
    "## Data Importing"
   ]
  },
  {
   "cell_type": "code",
   "execution_count": null,
   "metadata": {},
   "outputs": [],
   "source": [
    "# Load and clean data\n",
    "cleanedtweets = pd.read_csv(\"../Data/Raw/CleanedTweets.csv\")\n",
    "cleanedtweets[\"processed_text\"] = cleanedtweets[\"processed_text\"].fillna(\"\")\n",
    "\n",
    "X = cleanedtweets['processed_text']\n",
    "y = cleanedtweets['sentiment']\n",
    "\n",
    "# Split into train/test\n",
    "X_train, X_test, y_train, y_test = train_test_split(X, y, test_size=0.2, random_state=42, stratify=y)"
   ]
  },
  {
   "cell_type": "markdown",
   "metadata": {},
   "source": [
    "## Baseline"
   ]
  },
  {
   "cell_type": "code",
   "execution_count": null,
   "metadata": {},
   "outputs": [
    {
     "name": "stdout",
     "output_type": "stream",
     "text": [
      "\n",
      "RESULTS:\n",
      "Accuracy:  0.7613\n",
      "Precision: 0.7655\n",
      "Recall:    0.7533\n",
      "F1-Score:  0.7594\n"
     ]
    }
   ],
   "source": [
    "nb = Pipeline([\n",
    "    ('tfidf', TfidfVectorizer(max_features=5000, ngram_range=(1, 2))),\n",
    "    ('mnb', MultinomialNB())\n",
    "])\n",
    "\n",
    "nb.fit(X_train, y_train)\n",
    "y_pred = nb.predict(X_test)\n",
    "\n",
    "results = {}\n",
    "results['acc'] = accuracy_score(y_test, y_pred)\n",
    "results['prec'] = precision_score(y_test, y_pred)\n",
    "results['rec'] = recall_score(y_test, y_pred)\n",
    "results['f1'] =f1_score(y_test, y_pred)\n",
    "\n",
    "# Print results\n",
    "print(\"\\nRESULTS:\")\n",
    "print(f\"Accuracy:  {results['acc']:.4f}\")\n",
    "print(f\"Precision: {results['prec']:.4f}\")\n",
    "print(f\"Recall:    {results['rec']:.4f}\")\n",
    "print(f\"F1-Score:  {results['f1']:.4f}\")\n",
    "\n"
   ]
  },
  {
   "cell_type": "markdown",
   "metadata": {},
   "source": [
    "## Hyperparameter Tuning\n"
   ]
  },
  {
   "cell_type": "code",
   "execution_count": null,
   "metadata": {},
   "outputs": [
    {
     "name": "stdout",
     "output_type": "stream",
     "text": [
      "Best alpha: 10\n",
      "\n",
      "RESULTS:\n",
      "Accuracy:  0.7615\n",
      "Precision: 0.7681\n",
      "Recall:    0.7492\n",
      "F1-Score:  0.7585\n"
     ]
    }
   ],
   "source": [
    "nb = Pipeline([\n",
    "    ('tfidf', TfidfVectorizer(max_features=5000, ngram_range=(1, 2))),\n",
    "    ('mnb', MultinomialNB())\n",
    "])\n",
    "\n",
    "# Define hyperparameter grid\n",
    "params = {\n",
    "    'mnb__alpha': [0.0001, 0.001, 0.01, 0.1, 1, 10, 100, 1000]\n",
    "}\n",
    "\n",
    "# Grid search with 5-fold CV\n",
    "grid_search = GridSearchCV(nb, params, cv=5, scoring='accuracy')\n",
    "grid_search.fit(X_train, y_train)\n",
    "\n",
    "# Report choice of alpha\n",
    "print(\"Best alpha:\", grid_search.best_params_['mnb__alpha'])\n",
    "\n",
    "# Validation on the test set\n",
    "best_model = grid_search.best_estimator_\n",
    "y_pred = best_model.predict(X_test)\n",
    "\n",
    "results = {}\n",
    "results['acc'] = accuracy_score(y_test, y_pred)\n",
    "results['prec'] = precision_score(y_test, y_pred)\n",
    "results['rec'] = recall_score(y_test, y_pred)\n",
    "results['f1'] =f1_score(y_test, y_pred)\n",
    "\n",
    "print(\"\\nRESULTS:\")\n",
    "print(f\"Accuracy:  {results['acc']:.4f}\")\n",
    "print(f\"Precision: {results['prec']:.4f}\")\n",
    "print(f\"Recall:    {results['rec']:.4f}\")\n",
    "print(f\"F1-Score:  {results['f1']:.4f}\")\n",
    "\n"
   ]
  }
 ],
 "metadata": {
  "kernelspec": {
   "display_name": "Python 3",
   "language": "python",
   "name": "python3"
  },
  "language_info": {
   "codemirror_mode": {
    "name": "ipython",
    "version": 3
   },
   "file_extension": ".py",
   "mimetype": "text/x-python",
   "name": "python",
   "nbconvert_exporter": "python",
   "pygments_lexer": "ipython3",
   "version": "3.12.0"
  }
 },
 "nbformat": 4,
 "nbformat_minor": 2
}
